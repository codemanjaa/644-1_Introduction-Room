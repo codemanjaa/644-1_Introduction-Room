{
  "nbformat": 4,
  "nbformat_minor": 0,
  "metadata": {
    "colab": {
      "name": "Mayura_MLR_Demo1_task2.ipynb",
      "provenance": [],
      "collapsed_sections": [],
      "authorship_tag": "ABX9TyPTcagSq75S5uvGYCmEhYlC",
      "include_colab_link": true
    },
    "kernelspec": {
      "display_name": "Python 3",
      "name": "python3"
    }
  },
  "cells": [
    {
      "cell_type": "markdown",
      "metadata": {
        "id": "view-in-github",
        "colab_type": "text"
      },
      "source": [
        "<a href=\"https://colab.research.google.com/github/codemanjaa/644-1_Introduction-Room/blob/master/Mayura_MLR_Demo1_task2.ipynb\" target=\"_parent\"><img src=\"https://colab.research.google.com/assets/colab-badge.svg\" alt=\"Open In Colab\"/></a>"
      ]
    },
    {
      "cell_type": "code",
      "metadata": {
        "id": "Hk17PKuWZtMw"
      },
      "source": [
        "#@title Run on TensorFlow 2.x\n",
        "%tensorflow_version 2.x\n",
        "\n",
        "#@title Import the required libraries\n",
        "import numpy as np\n",
        "import pandas as pd\n",
        "\n",
        "import tensorflow as tf\n",
        "\n",
        "from tensorflow import feature_column\n",
        "from tensorflow.keras import layers\n",
        "from sklearn.model_selection import train_test_split\n",
        "from tensorflow.keras.layers.experimental import preprocessing"
      ],
      "execution_count": 32,
      "outputs": []
    },
    {
      "cell_type": "code",
      "metadata": {
        "id": "Lbu3FEE-aHWf"
      },
      "source": [
        "#@title Load the CSV file\n",
        "url = 'http://users.jyu.fi/~olkhriye/ties4911/demos/demo1/Automobile_price_data_Raw_set.csv'\n",
        "column_names = ['make', 'body-style', 'wheel-base', 'engine-size', 'horsepower', 'peak-rpm', 'highway-mpg','num-of-cylinders','price']\n",
        "raw_dataset = pd.read_csv(url, usecols=column_names)\n",
        "dataset = raw_dataset.copy()"
      ],
      "execution_count": 33,
      "outputs": []
    },
    {
      "cell_type": "code",
      "metadata": {
        "colab": {
          "base_uri": "https://localhost:8080/",
          "height": 204
        },
        "id": "LvL2QTivaV7s",
        "outputId": "bf7b77d3-9748-44c3-808b-257baf71d3c4"
      },
      "source": [
        "#@title Check the dataset\n",
        "dataset.head()"
      ],
      "execution_count": 34,
      "outputs": [
        {
          "output_type": "execute_result",
          "data": {
            "text/html": [
              "<div>\n",
              "<style scoped>\n",
              "    .dataframe tbody tr th:only-of-type {\n",
              "        vertical-align: middle;\n",
              "    }\n",
              "\n",
              "    .dataframe tbody tr th {\n",
              "        vertical-align: top;\n",
              "    }\n",
              "\n",
              "    .dataframe thead th {\n",
              "        text-align: right;\n",
              "    }\n",
              "</style>\n",
              "<table border=\"1\" class=\"dataframe\">\n",
              "  <thead>\n",
              "    <tr style=\"text-align: right;\">\n",
              "      <th></th>\n",
              "      <th>make</th>\n",
              "      <th>body-style</th>\n",
              "      <th>wheel-base</th>\n",
              "      <th>num-of-cylinders</th>\n",
              "      <th>engine-size</th>\n",
              "      <th>horsepower</th>\n",
              "      <th>peak-rpm</th>\n",
              "      <th>highway-mpg</th>\n",
              "      <th>price</th>\n",
              "    </tr>\n",
              "  </thead>\n",
              "  <tbody>\n",
              "    <tr>\n",
              "      <th>0</th>\n",
              "      <td>alfa-romero</td>\n",
              "      <td>convertible</td>\n",
              "      <td>88.6</td>\n",
              "      <td>four</td>\n",
              "      <td>130</td>\n",
              "      <td>111.0</td>\n",
              "      <td>5000.0</td>\n",
              "      <td>27</td>\n",
              "      <td>13495.0</td>\n",
              "    </tr>\n",
              "    <tr>\n",
              "      <th>1</th>\n",
              "      <td>alfa-romero</td>\n",
              "      <td>convertible</td>\n",
              "      <td>88.6</td>\n",
              "      <td>four</td>\n",
              "      <td>130</td>\n",
              "      <td>111.0</td>\n",
              "      <td>5000.0</td>\n",
              "      <td>27</td>\n",
              "      <td>16500.0</td>\n",
              "    </tr>\n",
              "    <tr>\n",
              "      <th>2</th>\n",
              "      <td>alfa-romero</td>\n",
              "      <td>hatchback</td>\n",
              "      <td>94.5</td>\n",
              "      <td>six</td>\n",
              "      <td>152</td>\n",
              "      <td>154.0</td>\n",
              "      <td>5000.0</td>\n",
              "      <td>26</td>\n",
              "      <td>16500.0</td>\n",
              "    </tr>\n",
              "    <tr>\n",
              "      <th>3</th>\n",
              "      <td>audi</td>\n",
              "      <td>sedan</td>\n",
              "      <td>99.8</td>\n",
              "      <td>four</td>\n",
              "      <td>109</td>\n",
              "      <td>102.0</td>\n",
              "      <td>5500.0</td>\n",
              "      <td>30</td>\n",
              "      <td>13950.0</td>\n",
              "    </tr>\n",
              "    <tr>\n",
              "      <th>4</th>\n",
              "      <td>audi</td>\n",
              "      <td>sedan</td>\n",
              "      <td>99.4</td>\n",
              "      <td>five</td>\n",
              "      <td>136</td>\n",
              "      <td>115.0</td>\n",
              "      <td>5500.0</td>\n",
              "      <td>22</td>\n",
              "      <td>17450.0</td>\n",
              "    </tr>\n",
              "  </tbody>\n",
              "</table>\n",
              "</div>"
            ],
            "text/plain": [
              "          make   body-style  wheel-base  ... peak-rpm  highway-mpg    price\n",
              "0  alfa-romero  convertible        88.6  ...   5000.0           27  13495.0\n",
              "1  alfa-romero  convertible        88.6  ...   5000.0           27  16500.0\n",
              "2  alfa-romero    hatchback        94.5  ...   5000.0           26  16500.0\n",
              "3         audi        sedan        99.8  ...   5500.0           30  13950.0\n",
              "4         audi        sedan        99.4  ...   5500.0           22  17450.0\n",
              "\n",
              "[5 rows x 9 columns]"
            ]
          },
          "metadata": {
            "tags": []
          },
          "execution_count": 34
        }
      ]
    },
    {
      "cell_type": "code",
      "metadata": {
        "colab": {
          "base_uri": "https://localhost:8080/"
        },
        "id": "3M2yVrIhaoiV",
        "outputId": "d0ea585f-7232-4dc4-c103-53227525e312"
      },
      "source": [
        "#@title Check for null values\n",
        "dataset.isnull().sum()"
      ],
      "execution_count": 35,
      "outputs": [
        {
          "output_type": "execute_result",
          "data": {
            "text/plain": [
              "make                4\n",
              "body-style          1\n",
              "wheel-base          0\n",
              "num-of-cylinders    0\n",
              "engine-size         0\n",
              "horsepower          2\n",
              "peak-rpm            2\n",
              "highway-mpg         0\n",
              "price               4\n",
              "dtype: int64"
            ]
          },
          "metadata": {
            "tags": []
          },
          "execution_count": 35
        }
      ]
    },
    {
      "cell_type": "code",
      "metadata": {
        "id": "GXFKkzGzfL8X"
      },
      "source": [
        "dataset['target'] = dataset['price']\n",
        "dataset = dataset.drop(columns=['num-of-cylinders','price'])"
      ],
      "execution_count": 68,
      "outputs": []
    },
    {
      "cell_type": "code",
      "metadata": {
        "colab": {
          "base_uri": "https://localhost:8080/"
        },
        "id": "-t8N271Xa3Sb",
        "outputId": "db288c91-335c-43e8-c4a1-de9f74f19771"
      },
      "source": [
        "#@title Remove null values and check the data\n",
        "dataset = dataset.dropna()\n",
        "dataset.isnull().sum()"
      ],
      "execution_count": 69,
      "outputs": [
        {
          "output_type": "execute_result",
          "data": {
            "text/plain": [
              "make           0\n",
              "body-style     0\n",
              "wheel-base     0\n",
              "engine-size    0\n",
              "horsepower     0\n",
              "peak-rpm       0\n",
              "highway-mpg    0\n",
              "target         0\n",
              "dtype: int64"
            ]
          },
          "metadata": {
            "tags": []
          },
          "execution_count": 69
        }
      ]
    },
    {
      "cell_type": "code",
      "metadata": {
        "colab": {
          "base_uri": "https://localhost:8080/"
        },
        "id": "jcR9Uhh-bWoD",
        "outputId": "777a247e-104b-4420-f07b-5c0e210b79dd"
      },
      "source": [
        "#@title Splits the dataset into train, validate & test\n",
        "train, test = train_test_split(dataset, test_size=0.2)\n",
        "train, val = train_test_split(train, test_size=0.2)\n",
        "print(len(train), 'train examples')\n",
        "print(len(val), 'validation examples')\n",
        "print(len(test), 'test examples')"
      ],
      "execution_count": 70,
      "outputs": [
        {
          "output_type": "stream",
          "text": [
            "124 train examples\n",
            "31 validation examples\n",
            "39 test examples\n"
          ],
          "name": "stdout"
        }
      ]
    },
    {
      "cell_type": "code",
      "metadata": {
        "id": "yFEbLy5AedRW"
      },
      "source": [
        "# A utility method to create a tf.data dataset from a Pandas Dataframe\n",
        "def df_to_dataset(dataframe, shuffle=True, batch_size=32):\n",
        "  dataframe = dataframe.copy()\n",
        "  labels = dataframe.pop('target')\n",
        "  ds = tf.data.Dataset.from_tensor_slices((dict(dataframe), labels))\n",
        "  if shuffle:\n",
        "    ds = ds.shuffle(buffer_size=len(dataframe))\n",
        "  ds = ds.batch(batch_size)\n",
        "  ds = ds.prefetch(batch_size)\n",
        "  return ds"
      ],
      "execution_count": 71,
      "outputs": []
    },
    {
      "cell_type": "code",
      "metadata": {
        "id": "sLemD1ZXe5Kg"
      },
      "source": [
        "batch_size = 5\n",
        "train_ds = df_to_dataset(train, batch_size=batch_size)"
      ],
      "execution_count": 72,
      "outputs": []
    },
    {
      "cell_type": "code",
      "metadata": {
        "colab": {
          "base_uri": "https://localhost:8080/"
        },
        "id": "zlmBcoyCgOdV",
        "outputId": "3f3bda0e-9054-49b9-e1a8-7efffbb3330c"
      },
      "source": [
        "[(train_features, label_batch)] = train_ds.take(1)\n",
        "print('Every feature:', list(train_features.keys()))\n",
        "print('A batch of engine-size:', train_features[ 'engine-size'])\n",
        "print('A batch of targets:', label_batch )"
      ],
      "execution_count": 73,
      "outputs": [
        {
          "output_type": "stream",
          "text": [
            "Every feature: ['make', 'body-style', 'wheel-base', 'engine-size', 'horsepower', 'peak-rpm', 'highway-mpg']\n",
            "A batch of engine-size: tf.Tensor([181  90 108 122  98], shape=(5,), dtype=int64)\n",
            "A batch of targets: tf.Tensor([14399.  6229.  7603.  8189.  8358.], shape=(5,), dtype=float64)\n"
          ],
          "name": "stdout"
        }
      ]
    },
    {
      "cell_type": "code",
      "metadata": {
        "id": "Lh06nCOkg1f6"
      },
      "source": [
        "def get_normalization_layer(name, dataset):\n",
        "  # Create a Normalization layer for our feature.\n",
        "  normalizer = preprocessing.Normalization()\n",
        "\n",
        "  # Prepare a Dataset that only yields our feature.\n",
        "  feature_ds = dataset.map(lambda x, y: x[name])\n",
        "\n",
        "  # Learn the statistics of the data.\n",
        "  normalizer.adapt(feature_ds)\n",
        "\n",
        "  return normalizer"
      ],
      "execution_count": 74,
      "outputs": []
    },
    {
      "cell_type": "code",
      "metadata": {
        "colab": {
          "base_uri": "https://localhost:8080/"
        },
        "id": "Fb0x-pCbhXNS",
        "outputId": "08ce7691-6fdb-4080-aab0-884b48db6b9b"
      },
      "source": [
        "horsepower_col = train_features['horsepower']\n",
        "layer = get_normalization_layer('horsepower', train_ds)\n",
        "layer(horsepower_col)"
      ],
      "execution_count": 75,
      "outputs": [
        {
          "output_type": "execute_result",
          "data": {
            "text/plain": [
              "<tf.Tensor: shape=(5, 1), dtype=float32, numpy=\n",
              "array([[ 1.2997495 ],\n",
              "       [-0.9794071 ],\n",
              "       [-0.84374297],\n",
              "       [-0.43675074],\n",
              "       [-0.9251414 ]], dtype=float32)>"
            ]
          },
          "metadata": {
            "tags": []
          },
          "execution_count": 75
        }
      ]
    },
    {
      "cell_type": "code",
      "metadata": {
        "colab": {
          "base_uri": "https://localhost:8080/"
        },
        "id": "7IWGeFEAiJmd",
        "outputId": "d588b9e3-3664-4387-9546-9dd55ddce7a7"
      },
      "source": [
        "peakrpm_col = train_features['peak-rpm']\n",
        "layer = get_normalization_layer('peak-rpm', train_ds)\n",
        "layer(peakrpm_col)"
      ],
      "execution_count": 76,
      "outputs": [
        {
          "output_type": "execute_result",
          "data": {
            "text/plain": [
              "<tf.Tensor: shape=(5, 1), dtype=float32, numpy=\n",
              "array([[ 0.19045025],\n",
              "       [ 0.7959835 ],\n",
              "       [-1.424305  ],\n",
              "       [-0.21323857],\n",
              "       [-0.6169274 ]], dtype=float32)>"
            ]
          },
          "metadata": {
            "tags": []
          },
          "execution_count": 76
        }
      ]
    },
    {
      "cell_type": "code",
      "metadata": {
        "colab": {
          "base_uri": "https://localhost:8080/"
        },
        "id": "Ih_VGnQDidgH",
        "outputId": "3c8d314b-afc0-4945-c7d2-fba0876eb117"
      },
      "source": [
        "highwaympg_col = train_features['highway-mpg']\n",
        "layer = get_normalization_layer('highway-mpg', train_ds)\n",
        "layer(highwaympg_col)"
      ],
      "execution_count": 77,
      "outputs": [
        {
          "output_type": "execute_result",
          "data": {
            "text/plain": [
              "<tf.Tensor: shape=(5, 1), dtype=float32, numpy=\n",
              "array([[-1.2269338 ],\n",
              "       [ 1.1159312 ],\n",
              "       [ 0.09092774],\n",
              "       [ 0.2373568 ],\n",
              "       [ 0.5302149 ]], dtype=float32)>"
            ]
          },
          "metadata": {
            "tags": []
          },
          "execution_count": 77
        }
      ]
    },
    {
      "cell_type": "code",
      "metadata": {
        "colab": {
          "base_uri": "https://localhost:8080/"
        },
        "id": "OoaDdSrwkwb0",
        "outputId": "3b557a0e-d658-4fa6-f5aa-ba0447dbaf43"
      },
      "source": [
        "wheelbase_col = train_features['wheel-base']\n",
        "layer = get_normalization_layer('wheel-base', train_ds)\n",
        "layer(wheelbase_col)"
      ],
      "execution_count": 78,
      "outputs": [
        {
          "output_type": "execute_result",
          "data": {
            "text/plain": [
              "<tf.Tensor: shape=(5, 1), dtype=float32, numpy=\n",
              "array([[ 0.19626833],\n",
              "       [-0.86256164],\n",
              "       [-0.92577434],\n",
              "       [-0.45167172],\n",
              "       [-0.54649323]], dtype=float32)>"
            ]
          },
          "metadata": {
            "tags": []
          },
          "execution_count": 78
        }
      ]
    },
    {
      "cell_type": "code",
      "metadata": {
        "colab": {
          "base_uri": "https://localhost:8080/"
        },
        "id": "iHr83tyck8YW",
        "outputId": "33f78a48-8a54-4cd1-a11f-77e291bd1ddf"
      },
      "source": [
        "enginesize_col = train_features['engine-size']\n",
        "layer = get_normalization_layer('engine-size', train_ds)\n",
        "layer(enginesize_col)"
      ],
      "execution_count": 79,
      "outputs": [
        {
          "output_type": "execute_result",
          "data": {
            "text/plain": [
              "<tf.Tensor: shape=(5, 1), dtype=float32, numpy=\n",
              "array([[ 1.2423458 ],\n",
              "       [-0.87623227],\n",
              "       [-0.45717284],\n",
              "       [-0.13123776],\n",
              "       [-0.6899836 ]], dtype=float32)>"
            ]
          },
          "metadata": {
            "tags": []
          },
          "execution_count": 79
        }
      ]
    },
    {
      "cell_type": "code",
      "metadata": {
        "id": "19SnsXRkle2N"
      },
      "source": [
        "#@title One hot vector encoded Layer - transform the strings to integer values\n",
        "def get_category_encoding_layer(name, dataset, dtype, max_tokens=None):\n",
        "  # Create a StringLookup layer which will turn strings into integer indices\n",
        "  if dtype == 'string':\n",
        "    index = preprocessing.StringLookup(max_tokens=max_tokens)\n",
        "  else:\n",
        "    index = preprocessing.IntegerLookup(max_values=max_tokens)\n",
        "\n",
        "  # Prepare a Dataset that only yields our feature\n",
        "  feature_ds = dataset.map(lambda x, y: x[name])\n",
        "\n",
        "  # Learn the set of possible values and assign them a fixed integer index.\n",
        "  index.adapt(feature_ds)\n",
        "\n",
        "  # Create a Discretization for our integer indices.\n",
        "  encoder = preprocessing.CategoryEncoding(max_tokens=index.vocab_size())\n",
        "\n",
        "  # Prepare a Dataset that only yields our feature.\n",
        "  feature_ds = feature_ds.map(index)\n",
        "\n",
        "  # Learn the space of possible indices.\n",
        "  encoder.adapt(feature_ds)\n",
        "\n",
        "  # Apply one-hot encoding to our indices. The lambda function captures the\n",
        "  # layer so we can use them, or include them in the functional model later.\n",
        "  return lambda feature: encoder(index(feature))"
      ],
      "execution_count": 80,
      "outputs": []
    },
    {
      "cell_type": "code",
      "metadata": {
        "colab": {
          "base_uri": "https://localhost:8080/"
        },
        "id": "IVwx0vMOl3IQ",
        "outputId": "ef3a4db6-687b-4bad-c3fd-e14db76cc99f"
      },
      "source": [
        "make_col = train_features['make']\n",
        "layer = get_category_encoding_layer('make', train_ds, 'string')\n",
        "layer(make_col)"
      ],
      "execution_count": 81,
      "outputs": [
        {
          "output_type": "execute_result",
          "data": {
            "text/plain": [
              "<tf.Tensor: shape=(5, 23), dtype=float32, numpy=\n",
              "array([[0., 0., 0., 0., 1., 0., 0., 0., 0., 0., 0., 0., 0., 0., 0., 0.,\n",
              "        0., 0., 0., 0., 0., 0., 0.],\n",
              "       [0., 0., 0., 0., 0., 0., 0., 0., 0., 0., 0., 0., 0., 0., 0., 1.,\n",
              "        0., 0., 0., 0., 0., 0., 0.],\n",
              "       [0., 0., 0., 0., 0., 0., 0., 0., 0., 0., 0., 1., 0., 0., 0., 0.,\n",
              "        0., 0., 0., 0., 0., 0., 0.],\n",
              "       [0., 0., 0., 0., 0., 0., 0., 0., 1., 0., 0., 0., 0., 0., 0., 0.,\n",
              "        0., 0., 0., 0., 0., 0., 0.],\n",
              "       [0., 0., 1., 0., 0., 0., 0., 0., 0., 0., 0., 0., 0., 0., 0., 0.,\n",
              "        0., 0., 0., 0., 0., 0., 0.]], dtype=float32)>"
            ]
          },
          "metadata": {
            "tags": []
          },
          "execution_count": 81
        }
      ]
    },
    {
      "cell_type": "code",
      "metadata": {
        "colab": {
          "base_uri": "https://localhost:8080/"
        },
        "id": "EDMYiVfcmL6U",
        "outputId": "4cac2567-545f-4d13-b514-c240b10c2356"
      },
      "source": [
        "bodystyle_col = train_features['body-style']\n",
        "layer = get_category_encoding_layer('body-style', train_ds, 'string')\n",
        "layer(bodystyle_col)"
      ],
      "execution_count": 82,
      "outputs": [
        {
          "output_type": "execute_result",
          "data": {
            "text/plain": [
              "<tf.Tensor: shape=(5, 7), dtype=float32, numpy=\n",
              "array([[0., 0., 0., 0., 1., 0., 0.],\n",
              "       [0., 0., 0., 1., 0., 0., 0.],\n",
              "       [0., 0., 0., 1., 0., 0., 0.],\n",
              "       [0., 0., 1., 0., 0., 0., 0.],\n",
              "       [0., 0., 0., 1., 0., 0., 0.]], dtype=float32)>"
            ]
          },
          "metadata": {
            "tags": []
          },
          "execution_count": 82
        }
      ]
    },
    {
      "cell_type": "code",
      "metadata": {
        "id": "TAu-RbcOqWwg"
      },
      "source": [
        "batch_size = 32\n",
        "train_ds = df_to_dataset(train, batch_size=batch_size)\n",
        "val_ds = df_to_dataset(val, shuffle=False, batch_size=batch_size)\n",
        "test_ds = df_to_dataset(test, shuffle=False, batch_size=batch_size)"
      ],
      "execution_count": 83,
      "outputs": []
    },
    {
      "cell_type": "code",
      "metadata": {
        "id": "aNXnPZ-4qi4q"
      },
      "source": [
        "all_inputs = []\n",
        "encoded_features = []\n",
        "\n",
        "# Numeric features.\n",
        "for header in ['wheel-base','engine-size', 'horsepower','peak-rpm','highway-mpg']:\n",
        "  numeric_col = tf.keras.Input(shape=(1,), name=header)\n",
        "  normalization_layer = get_normalization_layer(header, train_ds)\n",
        "  encoded_numeric_col = normalization_layer(numeric_col)\n",
        "  all_inputs.append(numeric_col)\n",
        "  encoded_features.append(encoded_numeric_col)"
      ],
      "execution_count": 86,
      "outputs": []
    },
    {
      "cell_type": "code",
      "metadata": {
        "id": "W5pZWVdyrNd5"
      },
      "source": [
        "# Categorical features encoded as string.\n",
        "categorical_cols = ['make', 'body-style']\n",
        "for header in categorical_cols:\n",
        "  categorical_col = tf.keras.Input(shape=(1,), name=header, dtype='string')\n",
        "  encoding_layer = get_category_encoding_layer(header, train_ds, dtype='string',\n",
        "                                               max_tokens=5)\n",
        "  encoded_categorical_col = encoding_layer(categorical_col)\n",
        "  all_inputs.append(categorical_col)\n",
        "  encoded_features.append(encoded_categorical_col)"
      ],
      "execution_count": 87,
      "outputs": []
    },
    {
      "cell_type": "code",
      "metadata": {
        "id": "DiWED-dBrcDP"
      },
      "source": [
        "all_features = tf.keras.layers.concatenate(encoded_features)\n",
        "x = tf.keras.layers.Dense(32, activation=\"relu\")(all_features)\n",
        "x = tf.keras.layers.Dropout(0.5)(x)\n",
        "output = tf.keras.layers.Dense(1)(x)\n",
        "model = tf.keras.Model(all_inputs, output)\n",
        "model.compile(optimizer='adam',\n",
        "              loss=tf.keras.losses.BinaryCrossentropy(from_logits=True),\n",
        "              metrics=[\"accuracy\"])"
      ],
      "execution_count": 88,
      "outputs": []
    },
    {
      "cell_type": "code",
      "metadata": {
        "colab": {
          "base_uri": "https://localhost:8080/",
          "height": 395
        },
        "id": "WirnYciwreeH",
        "outputId": "4f954a6b-efd2-4536-a442-4157862df4b1"
      },
      "source": [
        "# rankdir='LR' is used to make the graph horizontal.\n",
        "tf.keras.utils.plot_model(model, show_shapes=True, rankdir=\"LR\")"
      ],
      "execution_count": 89,
      "outputs": [
        {
          "output_type": "execute_result",
          "data": {
            "image/png": "[encoded data removed]",
            "text/plain": [
              "<IPython.core.display.Image object>"
            ]
          },
          "metadata": {
            "tags": []
          },
          "execution_count": 89
        }
      ]
    },
    {
      "cell_type": "code",
      "metadata": {
        "colab": {
          "base_uri": "https://localhost:8080/"
        },
        "id": "QIOzaFpUrq6Y",
        "outputId": "354f5351-b8cb-4498-f1a6-f4b61998109d"
      },
      "source": [
        "model.fit(train_ds, epochs=10, validation_data=val_ds)"
      ],
      "execution_count": 90,
      "outputs": [
        {
          "output_type": "stream",
          "text": [
            "Epoch 1/10\n",
            "4/4 [==============================] - 1s 82ms/step - loss: -3954.4780 - accuracy: 0.0000e+00 - val_loss: -5491.6646 - val_accuracy: 0.0000e+00\n",
            "Epoch 2/10\n",
            "4/4 [==============================] - 0s 12ms/step - loss: -7522.8318 - accuracy: 0.0000e+00 - val_loss: -6507.0679 - val_accuracy: 0.0000e+00\n",
            "Epoch 3/10\n",
            "4/4 [==============================] - 0s 12ms/step - loss: -6621.0012 - accuracy: 0.0000e+00 - val_loss: -7526.8003 - val_accuracy: 0.0000e+00\n",
            "Epoch 4/10\n",
            "4/4 [==============================] - 0s 12ms/step - loss: -11853.7934 - accuracy: 0.0000e+00 - val_loss: -8560.4375 - val_accuracy: 0.0000e+00\n",
            "Epoch 5/10\n",
            "4/4 [==============================] - 0s 12ms/step - loss: -9244.9924 - accuracy: 0.0000e+00 - val_loss: -9599.0127 - val_accuracy: 0.0000e+00\n",
            "Epoch 6/10\n",
            "4/4 [==============================] - 0s 12ms/step - loss: -11067.0799 - accuracy: 0.0000e+00 - val_loss: -10653.7285 - val_accuracy: 0.0000e+00\n",
            "Epoch 7/10\n",
            "4/4 [==============================] - 0s 12ms/step - loss: -11873.2078 - accuracy: 0.0000e+00 - val_loss: -11707.9775 - val_accuracy: 0.0000e+00\n",
            "Epoch 8/10\n",
            "4/4 [==============================] - 0s 12ms/step - loss: -12277.7035 - accuracy: 0.0000e+00 - val_loss: -12781.4766 - val_accuracy: 0.0000e+00\n",
            "Epoch 9/10\n",
            "4/4 [==============================] - 0s 12ms/step - loss: -13814.7750 - accuracy: 0.0000e+00 - val_loss: -13869.0830 - val_accuracy: 0.0000e+00\n",
            "Epoch 10/10\n",
            "4/4 [==============================] - 0s 13ms/step - loss: -15887.1963 - accuracy: 0.0000e+00 - val_loss: -14987.2695 - val_accuracy: 0.0000e+00\n"
          ],
          "name": "stdout"
        },
        {
          "output_type": "execute_result",
          "data": {
            "text/plain": [
              "<tensorflow.python.keras.callbacks.History at 0x7fba8e5bae10>"
            ]
          },
          "metadata": {
            "tags": []
          },
          "execution_count": 90
        }
      ]
    },
    {
      "cell_type": "code",
      "metadata": {
        "colab": {
          "base_uri": "https://localhost:8080/"
        },
        "id": "fRm6lC5Zw0De",
        "outputId": "36a91cab-6b4c-4bdc-caf6-cec11cd05f7f"
      },
      "source": [
        "loss, accuracy = model.evaluate(test_ds)\n",
        "print(\"Accuracy\", accuracy)"
      ],
      "execution_count": 91,
      "outputs": [
        {
          "output_type": "stream",
          "text": [
            "2/2 [==============================] - 0s 3ms/step - loss: -16420.0801 - accuracy: 0.0000e+00\n",
            "Accuracy 0.0\n"
          ],
          "name": "stdout"
        }
      ]
    },
    {
      "cell_type": "code",
      "metadata": {
        "colab": {
          "base_uri": "https://localhost:8080/"
        },
        "id": "5sQh9HOuxD2M",
        "outputId": "a80d799e-1f63-4ae9-b310-8c65e9411437"
      },
      "source": [
        "model.save('my_auto_classifier')\n",
        "reloaded_model = tf.keras.models.load_model('my_auto_classifier')"
      ],
      "execution_count": 92,
      "outputs": [
        {
          "output_type": "stream",
          "text": [
            "INFO:tensorflow:Assets written to: my_auto_classifier/assets\n"
          ],
          "name": "stdout"
        }
      ]
    },
    {
      "cell_type": "code",
      "metadata": {
        "colab": {
          "base_uri": "https://localhost:8080/"
        },
        "id": "5J0ShuKDySf0",
        "outputId": "afcaa4ca-040b-4306-dd34-59e78a8239ae"
      },
      "source": [
        "sample = {\n",
        "    'make': 'audi',\n",
        "    'body-style': 'hatchback',\n",
        "    'wheel-base': 99.5,\n",
        "    'engine-size': 131,\n",
        "    'horsepower': 160,\n",
        "    'peak-rpm': 5500,\n",
        "    'highway-mpg': 22,\n",
        "}\n",
        "\n",
        "input_dict = {name: tf.convert_to_tensor([value]) for name, value in sample.items()}\n",
        "predictions = reloaded_model.predict(input_dict)\n",
        "prob = tf.nn.sigmoid(predictions[0])\n",
        "\n",
        "print(\n",
        "    \"This particular automobile had a predicted price %.1f  \"\n",
        "     % (100 * prob)\n",
        ")"
      ],
      "execution_count": 103,
      "outputs": [
        {
          "output_type": "stream",
          "text": [
            "This particular automobile had a predicted price 76.8  \n"
          ],
          "name": "stdout"
        }
      ]
    }
  ]
}